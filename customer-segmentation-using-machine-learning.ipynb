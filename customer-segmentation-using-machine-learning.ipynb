{
 "cells": [
  {
   "cell_type": "code",
   "execution_count": 1,
   "id": "78d21931",
   "metadata": {
    "execution": {
     "iopub.execute_input": "2023-11-22T19:19:38.977385Z",
     "iopub.status.busy": "2023-11-22T19:19:38.976533Z",
     "iopub.status.idle": "2023-11-22T19:19:39.477945Z",
     "shell.execute_reply": "2023-11-22T19:19:39.476477Z"
    },
    "papermill": {
     "duration": 0.517447,
     "end_time": "2023-11-22T19:19:39.481593",
     "exception": false,
     "start_time": "2023-11-22T19:19:38.964146",
     "status": "completed"
    },
    "tags": []
   },
   "outputs": [],
   "source": [
    "import pandas as pd"
   ]
  },
  {
   "cell_type": "code",
   "execution_count": 2,
   "id": "354301b5",
   "metadata": {
    "execution": {
     "iopub.execute_input": "2023-11-22T19:19:39.504464Z",
     "iopub.status.busy": "2023-11-22T19:19:39.503926Z",
     "iopub.status.idle": "2023-11-22T19:19:39.715010Z",
     "shell.execute_reply": "2023-11-22T19:19:39.713801Z"
    },
    "papermill": {
     "duration": 0.225024,
     "end_time": "2023-11-22T19:19:39.717884",
     "exception": false,
     "start_time": "2023-11-22T19:19:39.492860",
     "status": "completed"
    },
    "tags": []
   },
   "outputs": [],
   "source": [
    "url = \"https://raw.githubusercontent.com/ELSOUDY2030/Mall-Customers/main/Mall_Customers.csv\"\n",
    "data = pd.read_csv(url)"
   ]
  },
  {
   "cell_type": "markdown",
   "id": "dd666f6d",
   "metadata": {
    "papermill": {
     "duration": 0.010179,
     "end_time": "2023-11-22T19:19:39.738254",
     "exception": false,
     "start_time": "2023-11-22T19:19:39.728075",
     "status": "completed"
    },
    "tags": []
   },
   "source": [
    "# Display Top 5 Rows of The DataSet"
   ]
  },
  {
   "cell_type": "code",
   "execution_count": 3,
   "id": "14b37fdb",
   "metadata": {
    "execution": {
     "iopub.execute_input": "2023-11-22T19:19:39.760697Z",
     "iopub.status.busy": "2023-11-22T19:19:39.759686Z",
     "iopub.status.idle": "2023-11-22T19:19:39.788681Z",
     "shell.execute_reply": "2023-11-22T19:19:39.787297Z"
    },
    "papermill": {
     "duration": 0.043449,
     "end_time": "2023-11-22T19:19:39.791385",
     "exception": false,
     "start_time": "2023-11-22T19:19:39.747936",
     "status": "completed"
    },
    "tags": []
   },
   "outputs": [
    {
     "data": {
      "text/html": [
       "<div>\n",
       "<style scoped>\n",
       "    .dataframe tbody tr th:only-of-type {\n",
       "        vertical-align: middle;\n",
       "    }\n",
       "\n",
       "    .dataframe tbody tr th {\n",
       "        vertical-align: top;\n",
       "    }\n",
       "\n",
       "    .dataframe thead th {\n",
       "        text-align: right;\n",
       "    }\n",
       "</style>\n",
       "<table border=\"1\" class=\"dataframe\">\n",
       "  <thead>\n",
       "    <tr style=\"text-align: right;\">\n",
       "      <th></th>\n",
       "      <th>CustomerID</th>\n",
       "      <th>Gender</th>\n",
       "      <th>Age</th>\n",
       "      <th>Annual Income (k$)</th>\n",
       "      <th>Spending Score (1-100)</th>\n",
       "    </tr>\n",
       "  </thead>\n",
       "  <tbody>\n",
       "    <tr>\n",
       "      <th>0</th>\n",
       "      <td>1</td>\n",
       "      <td>Male</td>\n",
       "      <td>19</td>\n",
       "      <td>15</td>\n",
       "      <td>39</td>\n",
       "    </tr>\n",
       "    <tr>\n",
       "      <th>1</th>\n",
       "      <td>2</td>\n",
       "      <td>Male</td>\n",
       "      <td>21</td>\n",
       "      <td>15</td>\n",
       "      <td>81</td>\n",
       "    </tr>\n",
       "    <tr>\n",
       "      <th>2</th>\n",
       "      <td>3</td>\n",
       "      <td>Female</td>\n",
       "      <td>20</td>\n",
       "      <td>16</td>\n",
       "      <td>6</td>\n",
       "    </tr>\n",
       "    <tr>\n",
       "      <th>3</th>\n",
       "      <td>4</td>\n",
       "      <td>Female</td>\n",
       "      <td>23</td>\n",
       "      <td>16</td>\n",
       "      <td>77</td>\n",
       "    </tr>\n",
       "    <tr>\n",
       "      <th>4</th>\n",
       "      <td>5</td>\n",
       "      <td>Female</td>\n",
       "      <td>31</td>\n",
       "      <td>17</td>\n",
       "      <td>40</td>\n",
       "    </tr>\n",
       "  </tbody>\n",
       "</table>\n",
       "</div>"
      ],
      "text/plain": [
       "   CustomerID  Gender  Age  Annual Income (k$)  Spending Score (1-100)\n",
       "0           1    Male   19                  15                      39\n",
       "1           2    Male   21                  15                      81\n",
       "2           3  Female   20                  16                       6\n",
       "3           4  Female   23                  16                      77\n",
       "4           5  Female   31                  17                      40"
      ]
     },
     "execution_count": 3,
     "metadata": {},
     "output_type": "execute_result"
    }
   ],
   "source": [
    "data.head()"
   ]
  },
  {
   "cell_type": "markdown",
   "id": "6dcbf699",
   "metadata": {
    "papermill": {
     "duration": 0.00984,
     "end_time": "2023-11-22T19:19:39.811762",
     "exception": false,
     "start_time": "2023-11-22T19:19:39.801922",
     "status": "completed"
    },
    "tags": []
   },
   "source": [
    "# Check last 5 Rows of The Dataset "
   ]
  },
  {
   "cell_type": "code",
   "execution_count": 4,
   "id": "0046a9d1",
   "metadata": {
    "execution": {
     "iopub.execute_input": "2023-11-22T19:19:39.834183Z",
     "iopub.status.busy": "2023-11-22T19:19:39.833263Z",
     "iopub.status.idle": "2023-11-22T19:19:39.850726Z",
     "shell.execute_reply": "2023-11-22T19:19:39.849050Z"
    },
    "papermill": {
     "duration": 0.031914,
     "end_time": "2023-11-22T19:19:39.853752",
     "exception": false,
     "start_time": "2023-11-22T19:19:39.821838",
     "status": "completed"
    },
    "tags": []
   },
   "outputs": [
    {
     "data": {
      "text/html": [
       "<div>\n",
       "<style scoped>\n",
       "    .dataframe tbody tr th:only-of-type {\n",
       "        vertical-align: middle;\n",
       "    }\n",
       "\n",
       "    .dataframe tbody tr th {\n",
       "        vertical-align: top;\n",
       "    }\n",
       "\n",
       "    .dataframe thead th {\n",
       "        text-align: right;\n",
       "    }\n",
       "</style>\n",
       "<table border=\"1\" class=\"dataframe\">\n",
       "  <thead>\n",
       "    <tr style=\"text-align: right;\">\n",
       "      <th></th>\n",
       "      <th>CustomerID</th>\n",
       "      <th>Gender</th>\n",
       "      <th>Age</th>\n",
       "      <th>Annual Income (k$)</th>\n",
       "      <th>Spending Score (1-100)</th>\n",
       "    </tr>\n",
       "  </thead>\n",
       "  <tbody>\n",
       "    <tr>\n",
       "      <th>195</th>\n",
       "      <td>196</td>\n",
       "      <td>Female</td>\n",
       "      <td>35</td>\n",
       "      <td>120</td>\n",
       "      <td>79</td>\n",
       "    </tr>\n",
       "    <tr>\n",
       "      <th>196</th>\n",
       "      <td>197</td>\n",
       "      <td>Female</td>\n",
       "      <td>45</td>\n",
       "      <td>126</td>\n",
       "      <td>28</td>\n",
       "    </tr>\n",
       "    <tr>\n",
       "      <th>197</th>\n",
       "      <td>198</td>\n",
       "      <td>Male</td>\n",
       "      <td>32</td>\n",
       "      <td>126</td>\n",
       "      <td>74</td>\n",
       "    </tr>\n",
       "    <tr>\n",
       "      <th>198</th>\n",
       "      <td>199</td>\n",
       "      <td>Male</td>\n",
       "      <td>32</td>\n",
       "      <td>137</td>\n",
       "      <td>18</td>\n",
       "    </tr>\n",
       "    <tr>\n",
       "      <th>199</th>\n",
       "      <td>200</td>\n",
       "      <td>Male</td>\n",
       "      <td>30</td>\n",
       "      <td>137</td>\n",
       "      <td>83</td>\n",
       "    </tr>\n",
       "  </tbody>\n",
       "</table>\n",
       "</div>"
      ],
      "text/plain": [
       "     CustomerID  Gender  Age  Annual Income (k$)  Spending Score (1-100)\n",
       "195         196  Female   35                 120                      79\n",
       "196         197  Female   45                 126                      28\n",
       "197         198    Male   32                 126                      74\n",
       "198         199    Male   32                 137                      18\n",
       "199         200    Male   30                 137                      83"
      ]
     },
     "execution_count": 4,
     "metadata": {},
     "output_type": "execute_result"
    }
   ],
   "source": [
    "data.tail()"
   ]
  },
  {
   "cell_type": "markdown",
   "id": "8b467c84",
   "metadata": {
    "papermill": {
     "duration": 0.010354,
     "end_time": "2023-11-22T19:19:39.875106",
     "exception": false,
     "start_time": "2023-11-22T19:19:39.864752",
     "status": "completed"
    },
    "tags": []
   },
   "source": [
    "## Find Shape of Our Dataset(Number of Rows And Number of Columns)"
   ]
  },
  {
   "cell_type": "code",
   "execution_count": 5,
   "id": "00640f8c",
   "metadata": {
    "execution": {
     "iopub.execute_input": "2023-11-22T19:19:39.898711Z",
     "iopub.status.busy": "2023-11-22T19:19:39.897470Z",
     "iopub.status.idle": "2023-11-22T19:19:39.905767Z",
     "shell.execute_reply": "2023-11-22T19:19:39.904576Z"
    },
    "papermill": {
     "duration": 0.022997,
     "end_time": "2023-11-22T19:19:39.908398",
     "exception": false,
     "start_time": "2023-11-22T19:19:39.885401",
     "status": "completed"
    },
    "tags": []
   },
   "outputs": [
    {
     "data": {
      "text/plain": [
       "(200, 5)"
      ]
     },
     "execution_count": 5,
     "metadata": {},
     "output_type": "execute_result"
    }
   ],
   "source": [
    "data.shape"
   ]
  },
  {
   "cell_type": "markdown",
   "id": "90348175",
   "metadata": {
    "papermill": {
     "duration": 0.010201,
     "end_time": "2023-11-22T19:19:39.929141",
     "exception": false,
     "start_time": "2023-11-22T19:19:39.918940",
     "status": "completed"
    },
    "tags": []
   },
   "source": [
    "### Get Information About Our Dataset Like Total Number of Rows , Total Number of Columns, DataTypes of Each Column And Memory Requirement"
   ]
  },
  {
   "cell_type": "code",
   "execution_count": 6,
   "id": "9eb948ef",
   "metadata": {
    "execution": {
     "iopub.execute_input": "2023-11-22T19:19:39.953081Z",
     "iopub.status.busy": "2023-11-22T19:19:39.952692Z",
     "iopub.status.idle": "2023-11-22T19:19:39.985488Z",
     "shell.execute_reply": "2023-11-22T19:19:39.984058Z"
    },
    "papermill": {
     "duration": 0.047855,
     "end_time": "2023-11-22T19:19:39.988148",
     "exception": false,
     "start_time": "2023-11-22T19:19:39.940293",
     "status": "completed"
    },
    "tags": []
   },
   "outputs": [
    {
     "name": "stdout",
     "output_type": "stream",
     "text": [
      "<class 'pandas.core.frame.DataFrame'>\n",
      "RangeIndex: 200 entries, 0 to 199\n",
      "Data columns (total 5 columns):\n",
      " #   Column                  Non-Null Count  Dtype \n",
      "---  ------                  --------------  ----- \n",
      " 0   CustomerID              200 non-null    int64 \n",
      " 1   Gender                  200 non-null    object\n",
      " 2   Age                     200 non-null    int64 \n",
      " 3   Annual Income (k$)      200 non-null    int64 \n",
      " 4   Spending Score (1-100)  200 non-null    int64 \n",
      "dtypes: int64(4), object(1)\n",
      "memory usage: 7.9+ KB\n"
     ]
    }
   ],
   "source": [
    "data.info()"
   ]
  },
  {
   "cell_type": "markdown",
   "id": "ea68a4a7",
   "metadata": {
    "papermill": {
     "duration": 0.013941,
     "end_time": "2023-11-22T19:19:40.014616",
     "exception": false,
     "start_time": "2023-11-22T19:19:40.000675",
     "status": "completed"
    },
    "tags": []
   },
   "source": [
    "# Check Null Values In The Dataset"
   ]
  },
  {
   "cell_type": "code",
   "execution_count": 7,
   "id": "f98117f0",
   "metadata": {
    "execution": {
     "iopub.execute_input": "2023-11-22T19:19:40.038217Z",
     "iopub.status.busy": "2023-11-22T19:19:40.037824Z",
     "iopub.status.idle": "2023-11-22T19:19:40.046355Z",
     "shell.execute_reply": "2023-11-22T19:19:40.045548Z"
    },
    "papermill": {
     "duration": 0.023559,
     "end_time": "2023-11-22T19:19:40.049040",
     "exception": false,
     "start_time": "2023-11-22T19:19:40.025481",
     "status": "completed"
    },
    "tags": []
   },
   "outputs": [
    {
     "data": {
      "text/plain": [
       "CustomerID                0\n",
       "Gender                    0\n",
       "Age                       0\n",
       "Annual Income (k$)        0\n",
       "Spending Score (1-100)    0\n",
       "dtype: int64"
      ]
     },
     "execution_count": 7,
     "metadata": {},
     "output_type": "execute_result"
    }
   ],
   "source": [
    "data.isnull().sum()"
   ]
  },
  {
   "cell_type": "markdown",
   "id": "0f630f51",
   "metadata": {
    "papermill": {
     "duration": 0.011301,
     "end_time": "2023-11-22T19:19:40.072007",
     "exception": false,
     "start_time": "2023-11-22T19:19:40.060706",
     "status": "completed"
    },
    "tags": []
   },
   "source": [
    "# Get Overall Statistics About The Dataset"
   ]
  },
  {
   "cell_type": "code",
   "execution_count": 8,
   "id": "ba73ee71",
   "metadata": {
    "execution": {
     "iopub.execute_input": "2023-11-22T19:19:40.097735Z",
     "iopub.status.busy": "2023-11-22T19:19:40.096588Z",
     "iopub.status.idle": "2023-11-22T19:19:40.123890Z",
     "shell.execute_reply": "2023-11-22T19:19:40.122795Z"
    },
    "papermill": {
     "duration": 0.042673,
     "end_time": "2023-11-22T19:19:40.126439",
     "exception": false,
     "start_time": "2023-11-22T19:19:40.083766",
     "status": "completed"
    },
    "tags": []
   },
   "outputs": [
    {
     "data": {
      "text/html": [
       "<div>\n",
       "<style scoped>\n",
       "    .dataframe tbody tr th:only-of-type {\n",
       "        vertical-align: middle;\n",
       "    }\n",
       "\n",
       "    .dataframe tbody tr th {\n",
       "        vertical-align: top;\n",
       "    }\n",
       "\n",
       "    .dataframe thead th {\n",
       "        text-align: right;\n",
       "    }\n",
       "</style>\n",
       "<table border=\"1\" class=\"dataframe\">\n",
       "  <thead>\n",
       "    <tr style=\"text-align: right;\">\n",
       "      <th></th>\n",
       "      <th>CustomerID</th>\n",
       "      <th>Age</th>\n",
       "      <th>Annual Income (k$)</th>\n",
       "      <th>Spending Score (1-100)</th>\n",
       "    </tr>\n",
       "  </thead>\n",
       "  <tbody>\n",
       "    <tr>\n",
       "      <th>count</th>\n",
       "      <td>200.000000</td>\n",
       "      <td>200.000000</td>\n",
       "      <td>200.000000</td>\n",
       "      <td>200.000000</td>\n",
       "    </tr>\n",
       "    <tr>\n",
       "      <th>mean</th>\n",
       "      <td>100.500000</td>\n",
       "      <td>38.850000</td>\n",
       "      <td>60.560000</td>\n",
       "      <td>50.200000</td>\n",
       "    </tr>\n",
       "    <tr>\n",
       "      <th>std</th>\n",
       "      <td>57.879185</td>\n",
       "      <td>13.969007</td>\n",
       "      <td>26.264721</td>\n",
       "      <td>25.823522</td>\n",
       "    </tr>\n",
       "    <tr>\n",
       "      <th>min</th>\n",
       "      <td>1.000000</td>\n",
       "      <td>18.000000</td>\n",
       "      <td>15.000000</td>\n",
       "      <td>1.000000</td>\n",
       "    </tr>\n",
       "    <tr>\n",
       "      <th>25%</th>\n",
       "      <td>50.750000</td>\n",
       "      <td>28.750000</td>\n",
       "      <td>41.500000</td>\n",
       "      <td>34.750000</td>\n",
       "    </tr>\n",
       "    <tr>\n",
       "      <th>50%</th>\n",
       "      <td>100.500000</td>\n",
       "      <td>36.000000</td>\n",
       "      <td>61.500000</td>\n",
       "      <td>50.000000</td>\n",
       "    </tr>\n",
       "    <tr>\n",
       "      <th>75%</th>\n",
       "      <td>150.250000</td>\n",
       "      <td>49.000000</td>\n",
       "      <td>78.000000</td>\n",
       "      <td>73.000000</td>\n",
       "    </tr>\n",
       "    <tr>\n",
       "      <th>max</th>\n",
       "      <td>200.000000</td>\n",
       "      <td>70.000000</td>\n",
       "      <td>137.000000</td>\n",
       "      <td>99.000000</td>\n",
       "    </tr>\n",
       "  </tbody>\n",
       "</table>\n",
       "</div>"
      ],
      "text/plain": [
       "       CustomerID         Age  Annual Income (k$)  Spending Score (1-100)\n",
       "count  200.000000  200.000000          200.000000              200.000000\n",
       "mean   100.500000   38.850000           60.560000               50.200000\n",
       "std     57.879185   13.969007           26.264721               25.823522\n",
       "min      1.000000   18.000000           15.000000                1.000000\n",
       "25%     50.750000   28.750000           41.500000               34.750000\n",
       "50%    100.500000   36.000000           61.500000               50.000000\n",
       "75%    150.250000   49.000000           78.000000               73.000000\n",
       "max    200.000000   70.000000          137.000000               99.000000"
      ]
     },
     "execution_count": 8,
     "metadata": {},
     "output_type": "execute_result"
    }
   ],
   "source": [
    "data.describe()"
   ]
  },
  {
   "cell_type": "markdown",
   "id": "c17675af",
   "metadata": {
    "papermill": {
     "duration": 0.011855,
     "end_time": "2023-11-22T19:19:40.149921",
     "exception": false,
     "start_time": "2023-11-22T19:19:40.138066",
     "status": "completed"
    },
    "tags": []
   },
   "source": [
    "# Check Null Values In The Dataset"
   ]
  },
  {
   "cell_type": "code",
   "execution_count": 9,
   "id": "dca31a00",
   "metadata": {
    "execution": {
     "iopub.execute_input": "2023-11-22T19:19:40.175684Z",
     "iopub.status.busy": "2023-11-22T19:19:40.175205Z",
     "iopub.status.idle": "2023-11-22T19:19:40.184554Z",
     "shell.execute_reply": "2023-11-22T19:19:40.183586Z"
    },
    "papermill": {
     "duration": 0.025562,
     "end_time": "2023-11-22T19:19:40.187670",
     "exception": false,
     "start_time": "2023-11-22T19:19:40.162108",
     "status": "completed"
    },
    "tags": []
   },
   "outputs": [
    {
     "data": {
      "text/plain": [
       "CustomerID                0\n",
       "Gender                    0\n",
       "Age                       0\n",
       "Annual Income (k$)        0\n",
       "Spending Score (1-100)    0\n",
       "dtype: int64"
      ]
     },
     "execution_count": 9,
     "metadata": {},
     "output_type": "execute_result"
    }
   ],
   "source": [
    "data.isnull().sum()"
   ]
  },
  {
   "cell_type": "markdown",
   "id": "2f61b77d",
   "metadata": {
    "papermill": {
     "duration": 0.011108,
     "end_time": "2023-11-22T19:19:40.210394",
     "exception": false,
     "start_time": "2023-11-22T19:19:40.199286",
     "status": "completed"
    },
    "tags": []
   },
   "source": [
    "# Kmeans Clustering"
   ]
  },
  {
   "cell_type": "code",
   "execution_count": 10,
   "id": "f0e9047f",
   "metadata": {
    "execution": {
     "iopub.execute_input": "2023-11-22T19:19:40.236028Z",
     "iopub.status.busy": "2023-11-22T19:19:40.235619Z",
     "iopub.status.idle": "2023-11-22T19:19:40.243144Z",
     "shell.execute_reply": "2023-11-22T19:19:40.241995Z"
    },
    "papermill": {
     "duration": 0.023417,
     "end_time": "2023-11-22T19:19:40.245944",
     "exception": false,
     "start_time": "2023-11-22T19:19:40.222527",
     "status": "completed"
    },
    "tags": []
   },
   "outputs": [
    {
     "data": {
      "text/plain": [
       "Index(['CustomerID', 'Gender', 'Age', 'Annual Income (k$)',\n",
       "       'Spending Score (1-100)'],\n",
       "      dtype='object')"
      ]
     },
     "execution_count": 10,
     "metadata": {},
     "output_type": "execute_result"
    }
   ],
   "source": [
    "data.columns"
   ]
  },
  {
   "cell_type": "code",
   "execution_count": 11,
   "id": "5b4a782b",
   "metadata": {
    "execution": {
     "iopub.execute_input": "2023-11-22T19:19:40.271624Z",
     "iopub.status.busy": "2023-11-22T19:19:40.271171Z",
     "iopub.status.idle": "2023-11-22T19:19:40.282082Z",
     "shell.execute_reply": "2023-11-22T19:19:40.281199Z"
    },
    "papermill": {
     "duration": 0.026655,
     "end_time": "2023-11-22T19:19:40.284645",
     "exception": false,
     "start_time": "2023-11-22T19:19:40.257990",
     "status": "completed"
    },
    "tags": []
   },
   "outputs": [],
   "source": [
    "x = data[['Annual Income (k$)','Spending Score (1-100)']]"
   ]
  },
  {
   "cell_type": "code",
   "execution_count": 12,
   "id": "6cf38639",
   "metadata": {
    "execution": {
     "iopub.execute_input": "2023-11-22T19:19:40.310271Z",
     "iopub.status.busy": "2023-11-22T19:19:40.309833Z",
     "iopub.status.idle": "2023-11-22T19:19:40.322405Z",
     "shell.execute_reply": "2023-11-22T19:19:40.321082Z"
    },
    "papermill": {
     "duration": 0.028736,
     "end_time": "2023-11-22T19:19:40.325177",
     "exception": false,
     "start_time": "2023-11-22T19:19:40.296441",
     "status": "completed"
    },
    "tags": []
   },
   "outputs": [
    {
     "data": {
      "text/html": [
       "<div>\n",
       "<style scoped>\n",
       "    .dataframe tbody tr th:only-of-type {\n",
       "        vertical-align: middle;\n",
       "    }\n",
       "\n",
       "    .dataframe tbody tr th {\n",
       "        vertical-align: top;\n",
       "    }\n",
       "\n",
       "    .dataframe thead th {\n",
       "        text-align: right;\n",
       "    }\n",
       "</style>\n",
       "<table border=\"1\" class=\"dataframe\">\n",
       "  <thead>\n",
       "    <tr style=\"text-align: right;\">\n",
       "      <th></th>\n",
       "      <th>Annual Income (k$)</th>\n",
       "      <th>Spending Score (1-100)</th>\n",
       "    </tr>\n",
       "  </thead>\n",
       "  <tbody>\n",
       "    <tr>\n",
       "      <th>0</th>\n",
       "      <td>15</td>\n",
       "      <td>39</td>\n",
       "    </tr>\n",
       "    <tr>\n",
       "      <th>1</th>\n",
       "      <td>15</td>\n",
       "      <td>81</td>\n",
       "    </tr>\n",
       "    <tr>\n",
       "      <th>2</th>\n",
       "      <td>16</td>\n",
       "      <td>6</td>\n",
       "    </tr>\n",
       "    <tr>\n",
       "      <th>3</th>\n",
       "      <td>16</td>\n",
       "      <td>77</td>\n",
       "    </tr>\n",
       "    <tr>\n",
       "      <th>4</th>\n",
       "      <td>17</td>\n",
       "      <td>40</td>\n",
       "    </tr>\n",
       "    <tr>\n",
       "      <th>...</th>\n",
       "      <td>...</td>\n",
       "      <td>...</td>\n",
       "    </tr>\n",
       "    <tr>\n",
       "      <th>195</th>\n",
       "      <td>120</td>\n",
       "      <td>79</td>\n",
       "    </tr>\n",
       "    <tr>\n",
       "      <th>196</th>\n",
       "      <td>126</td>\n",
       "      <td>28</td>\n",
       "    </tr>\n",
       "    <tr>\n",
       "      <th>197</th>\n",
       "      <td>126</td>\n",
       "      <td>74</td>\n",
       "    </tr>\n",
       "    <tr>\n",
       "      <th>198</th>\n",
       "      <td>137</td>\n",
       "      <td>18</td>\n",
       "    </tr>\n",
       "    <tr>\n",
       "      <th>199</th>\n",
       "      <td>137</td>\n",
       "      <td>83</td>\n",
       "    </tr>\n",
       "  </tbody>\n",
       "</table>\n",
       "<p>200 rows × 2 columns</p>\n",
       "</div>"
      ],
      "text/plain": [
       "     Annual Income (k$)  Spending Score (1-100)\n",
       "0                    15                      39\n",
       "1                    15                      81\n",
       "2                    16                       6\n",
       "3                    16                      77\n",
       "4                    17                      40\n",
       "..                  ...                     ...\n",
       "195                 120                      79\n",
       "196                 126                      28\n",
       "197                 126                      74\n",
       "198                 137                      18\n",
       "199                 137                      83\n",
       "\n",
       "[200 rows x 2 columns]"
      ]
     },
     "execution_count": 12,
     "metadata": {},
     "output_type": "execute_result"
    }
   ],
   "source": [
    "x"
   ]
  },
  {
   "cell_type": "code",
   "execution_count": 13,
   "id": "ef57c73c",
   "metadata": {
    "execution": {
     "iopub.execute_input": "2023-11-22T19:19:40.351893Z",
     "iopub.status.busy": "2023-11-22T19:19:40.351451Z",
     "iopub.status.idle": "2023-11-22T19:19:42.399624Z",
     "shell.execute_reply": "2023-11-22T19:19:42.398030Z"
    },
    "papermill": {
     "duration": 2.064632,
     "end_time": "2023-11-22T19:19:42.402458",
     "exception": false,
     "start_time": "2023-11-22T19:19:40.337826",
     "status": "completed"
    },
    "tags": []
   },
   "outputs": [],
   "source": [
    "from sklearn.cluster import KMeans"
   ]
  },
  {
   "cell_type": "code",
   "execution_count": 14,
   "id": "0201efab",
   "metadata": {
    "execution": {
     "iopub.execute_input": "2023-11-22T19:19:42.429484Z",
     "iopub.status.busy": "2023-11-22T19:19:42.429050Z",
     "iopub.status.idle": "2023-11-22T19:19:42.545305Z",
     "shell.execute_reply": "2023-11-22T19:19:42.544113Z"
    },
    "papermill": {
     "duration": 0.133765,
     "end_time": "2023-11-22T19:19:42.548775",
     "exception": false,
     "start_time": "2023-11-22T19:19:42.415010",
     "status": "completed"
    },
    "tags": []
   },
   "outputs": [
    {
     "name": "stderr",
     "output_type": "stream",
     "text": [
      "/opt/conda/lib/python3.10/site-packages/sklearn/cluster/_kmeans.py:870: FutureWarning: The default value of `n_init` will change from 10 to 'auto' in 1.4. Set the value of `n_init` explicitly to suppress the warning\n",
      "  warnings.warn(\n"
     ]
    },
    {
     "data": {
      "text/html": [
       "<style>#sk-container-id-1 {color: black;background-color: white;}#sk-container-id-1 pre{padding: 0;}#sk-container-id-1 div.sk-toggleable {background-color: white;}#sk-container-id-1 label.sk-toggleable__label {cursor: pointer;display: block;width: 100%;margin-bottom: 0;padding: 0.3em;box-sizing: border-box;text-align: center;}#sk-container-id-1 label.sk-toggleable__label-arrow:before {content: \"▸\";float: left;margin-right: 0.25em;color: #696969;}#sk-container-id-1 label.sk-toggleable__label-arrow:hover:before {color: black;}#sk-container-id-1 div.sk-estimator:hover label.sk-toggleable__label-arrow:before {color: black;}#sk-container-id-1 div.sk-toggleable__content {max-height: 0;max-width: 0;overflow: hidden;text-align: left;background-color: #f0f8ff;}#sk-container-id-1 div.sk-toggleable__content pre {margin: 0.2em;color: black;border-radius: 0.25em;background-color: #f0f8ff;}#sk-container-id-1 input.sk-toggleable__control:checked~div.sk-toggleable__content {max-height: 200px;max-width: 100%;overflow: auto;}#sk-container-id-1 input.sk-toggleable__control:checked~label.sk-toggleable__label-arrow:before {content: \"▾\";}#sk-container-id-1 div.sk-estimator input.sk-toggleable__control:checked~label.sk-toggleable__label {background-color: #d4ebff;}#sk-container-id-1 div.sk-label input.sk-toggleable__control:checked~label.sk-toggleable__label {background-color: #d4ebff;}#sk-container-id-1 input.sk-hidden--visually {border: 0;clip: rect(1px 1px 1px 1px);clip: rect(1px, 1px, 1px, 1px);height: 1px;margin: -1px;overflow: hidden;padding: 0;position: absolute;width: 1px;}#sk-container-id-1 div.sk-estimator {font-family: monospace;background-color: #f0f8ff;border: 1px dotted black;border-radius: 0.25em;box-sizing: border-box;margin-bottom: 0.5em;}#sk-container-id-1 div.sk-estimator:hover {background-color: #d4ebff;}#sk-container-id-1 div.sk-parallel-item::after {content: \"\";width: 100%;border-bottom: 1px solid gray;flex-grow: 1;}#sk-container-id-1 div.sk-label:hover label.sk-toggleable__label {background-color: #d4ebff;}#sk-container-id-1 div.sk-serial::before {content: \"\";position: absolute;border-left: 1px solid gray;box-sizing: border-box;top: 0;bottom: 0;left: 50%;z-index: 0;}#sk-container-id-1 div.sk-serial {display: flex;flex-direction: column;align-items: center;background-color: white;padding-right: 0.2em;padding-left: 0.2em;position: relative;}#sk-container-id-1 div.sk-item {position: relative;z-index: 1;}#sk-container-id-1 div.sk-parallel {display: flex;align-items: stretch;justify-content: center;background-color: white;position: relative;}#sk-container-id-1 div.sk-item::before, #sk-container-id-1 div.sk-parallel-item::before {content: \"\";position: absolute;border-left: 1px solid gray;box-sizing: border-box;top: 0;bottom: 0;left: 50%;z-index: -1;}#sk-container-id-1 div.sk-parallel-item {display: flex;flex-direction: column;z-index: 1;position: relative;background-color: white;}#sk-container-id-1 div.sk-parallel-item:first-child::after {align-self: flex-end;width: 50%;}#sk-container-id-1 div.sk-parallel-item:last-child::after {align-self: flex-start;width: 50%;}#sk-container-id-1 div.sk-parallel-item:only-child::after {width: 0;}#sk-container-id-1 div.sk-dashed-wrapped {border: 1px dashed gray;margin: 0 0.4em 0.5em 0.4em;box-sizing: border-box;padding-bottom: 0.4em;background-color: white;}#sk-container-id-1 div.sk-label label {font-family: monospace;font-weight: bold;display: inline-block;line-height: 1.2em;}#sk-container-id-1 div.sk-label-container {text-align: center;}#sk-container-id-1 div.sk-container {/* jupyter's `normalize.less` sets `[hidden] { display: none; }` but bootstrap.min.css set `[hidden] { display: none !important; }` so we also need the `!important` here to be able to override the default hidden behavior on the sphinx rendered scikit-learn.org. See: https://github.com/scikit-learn/scikit-learn/issues/21755 */display: inline-block !important;position: relative;}#sk-container-id-1 div.sk-text-repr-fallback {display: none;}</style><div id=\"sk-container-id-1\" class=\"sk-top-container\"><div class=\"sk-text-repr-fallback\"><pre>KMeans()</pre><b>In a Jupyter environment, please rerun this cell to show the HTML representation or trust the notebook. <br />On GitHub, the HTML representation is unable to render, please try loading this page with nbviewer.org.</b></div><div class=\"sk-container\" hidden><div class=\"sk-item\"><div class=\"sk-estimator sk-toggleable\"><input class=\"sk-toggleable__control sk-hidden--visually\" id=\"sk-estimator-id-1\" type=\"checkbox\" checked><label for=\"sk-estimator-id-1\" class=\"sk-toggleable__label sk-toggleable__label-arrow\">KMeans</label><div class=\"sk-toggleable__content\"><pre>KMeans()</pre></div></div></div></div></div>"
      ],
      "text/plain": [
       "KMeans()"
      ]
     },
     "execution_count": 14,
     "metadata": {},
     "output_type": "execute_result"
    }
   ],
   "source": [
    "k_means = KMeans()\n",
    "k_means.fit(x)"
   ]
  },
  {
   "cell_type": "code",
   "execution_count": 15,
   "id": "7fda5919",
   "metadata": {
    "execution": {
     "iopub.execute_input": "2023-11-22T19:19:42.577996Z",
     "iopub.status.busy": "2023-11-22T19:19:42.577309Z",
     "iopub.status.idle": "2023-11-22T19:19:42.627421Z",
     "shell.execute_reply": "2023-11-22T19:19:42.624719Z"
    },
    "papermill": {
     "duration": 0.067189,
     "end_time": "2023-11-22T19:19:42.630286",
     "exception": false,
     "start_time": "2023-11-22T19:19:42.563097",
     "status": "completed"
    },
    "tags": []
   },
   "outputs": [
    {
     "name": "stderr",
     "output_type": "stream",
     "text": [
      "/opt/conda/lib/python3.10/site-packages/sklearn/cluster/_kmeans.py:870: FutureWarning: The default value of `n_init` will change from 10 to 'auto' in 1.4. Set the value of `n_init` explicitly to suppress the warning\n",
      "  warnings.warn(\n"
     ]
    },
    {
     "data": {
      "text/plain": [
       "array([4, 3, 4, 3, 4, 3, 4, 3, 4, 3, 4, 3, 4, 3, 4, 3, 4, 3, 4, 3, 4, 3,\n",
       "       4, 3, 4, 3, 4, 3, 4, 3, 4, 3, 4, 3, 4, 3, 4, 3, 4, 3, 1, 3, 1, 1,\n",
       "       4, 1, 1, 1, 1, 1, 1, 1, 1, 1, 1, 1, 1, 1, 1, 1, 1, 1, 1, 1, 1, 1,\n",
       "       1, 1, 1, 1, 1, 1, 1, 1, 1, 1, 1, 1, 1, 5, 1, 1, 5, 5, 1, 1, 1, 5,\n",
       "       5, 5, 5, 5, 5, 5, 5, 5, 5, 5, 5, 5, 5, 5, 5, 5, 5, 5, 5, 5, 5, 5,\n",
       "       5, 5, 5, 5, 5, 5, 5, 5, 5, 5, 5, 5, 5, 7, 0, 7, 5, 7, 0, 7, 0, 7,\n",
       "       5, 7, 0, 7, 0, 7, 0, 7, 0, 7, 5, 7, 0, 7, 5, 7, 0, 7, 0, 7, 0, 7,\n",
       "       0, 7, 0, 7, 0, 7, 5, 7, 0, 7, 0, 7, 0, 7, 0, 7, 0, 7, 0, 7, 0, 7,\n",
       "       0, 7, 0, 2, 6, 2, 6, 2, 6, 2, 6, 2, 6, 2, 6, 2, 6, 2, 6, 2, 6, 2,\n",
       "       6, 2], dtype=int32)"
      ]
     },
     "execution_count": 15,
     "metadata": {},
     "output_type": "execute_result"
    }
   ],
   "source": [
    "k_means = KMeans()\n",
    "k_means.fit_predict(x)"
   ]
  },
  {
   "cell_type": "markdown",
   "id": "ce252642",
   "metadata": {
    "papermill": {
     "duration": 0.013265,
     "end_time": "2023-11-22T19:19:42.658526",
     "exception": false,
     "start_time": "2023-11-22T19:19:42.645261",
     "status": "completed"
    },
    "tags": []
   },
   "source": [
    "## Elbow Method To Find Optimal Numbeer of Clusters:"
   ]
  },
  {
   "cell_type": "code",
   "execution_count": 16,
   "id": "340e9219",
   "metadata": {
    "execution": {
     "iopub.execute_input": "2023-11-22T19:19:42.691780Z",
     "iopub.status.busy": "2023-11-22T19:19:42.691070Z",
     "iopub.status.idle": "2023-11-22T19:19:42.978864Z",
     "shell.execute_reply": "2023-11-22T19:19:42.977903Z"
    },
    "papermill": {
     "duration": 0.307422,
     "end_time": "2023-11-22T19:19:42.981669",
     "exception": false,
     "start_time": "2023-11-22T19:19:42.674247",
     "status": "completed"
    },
    "tags": []
   },
   "outputs": [
    {
     "name": "stderr",
     "output_type": "stream",
     "text": [
      "/opt/conda/lib/python3.10/site-packages/sklearn/cluster/_kmeans.py:870: FutureWarning: The default value of `n_init` will change from 10 to 'auto' in 1.4. Set the value of `n_init` explicitly to suppress the warning\n",
      "  warnings.warn(\n",
      "/opt/conda/lib/python3.10/site-packages/sklearn/cluster/_kmeans.py:870: FutureWarning: The default value of `n_init` will change from 10 to 'auto' in 1.4. Set the value of `n_init` explicitly to suppress the warning\n",
      "  warnings.warn(\n",
      "/opt/conda/lib/python3.10/site-packages/sklearn/cluster/_kmeans.py:870: FutureWarning: The default value of `n_init` will change from 10 to 'auto' in 1.4. Set the value of `n_init` explicitly to suppress the warning\n",
      "  warnings.warn(\n",
      "/opt/conda/lib/python3.10/site-packages/sklearn/cluster/_kmeans.py:870: FutureWarning: The default value of `n_init` will change from 10 to 'auto' in 1.4. Set the value of `n_init` explicitly to suppress the warning\n",
      "  warnings.warn(\n",
      "/opt/conda/lib/python3.10/site-packages/sklearn/cluster/_kmeans.py:870: FutureWarning: The default value of `n_init` will change from 10 to 'auto' in 1.4. Set the value of `n_init` explicitly to suppress the warning\n",
      "  warnings.warn(\n",
      "/opt/conda/lib/python3.10/site-packages/sklearn/cluster/_kmeans.py:870: FutureWarning: The default value of `n_init` will change from 10 to 'auto' in 1.4. Set the value of `n_init` explicitly to suppress the warning\n",
      "  warnings.warn(\n",
      "/opt/conda/lib/python3.10/site-packages/sklearn/cluster/_kmeans.py:870: FutureWarning: The default value of `n_init` will change from 10 to 'auto' in 1.4. Set the value of `n_init` explicitly to suppress the warning\n",
      "  warnings.warn(\n",
      "/opt/conda/lib/python3.10/site-packages/sklearn/cluster/_kmeans.py:870: FutureWarning: The default value of `n_init` will change from 10 to 'auto' in 1.4. Set the value of `n_init` explicitly to suppress the warning\n",
      "  warnings.warn(\n",
      "/opt/conda/lib/python3.10/site-packages/sklearn/cluster/_kmeans.py:870: FutureWarning: The default value of `n_init` will change from 10 to 'auto' in 1.4. Set the value of `n_init` explicitly to suppress the warning\n",
      "  warnings.warn(\n",
      "/opt/conda/lib/python3.10/site-packages/sklearn/cluster/_kmeans.py:870: FutureWarning: The default value of `n_init` will change from 10 to 'auto' in 1.4. Set the value of `n_init` explicitly to suppress the warning\n",
      "  warnings.warn(\n"
     ]
    }
   ],
   "source": [
    "\n",
    "wcss=[]\n",
    "for i in range(1,11):\n",
    "   k_means = KMeans(n_clusters=i)\n",
    "   k_means.fit(x) \n",
    "   wcss.append(k_means.inertia_) "
   ]
  },
  {
   "cell_type": "code",
   "execution_count": 17,
   "id": "f8220cb0",
   "metadata": {
    "execution": {
     "iopub.execute_input": "2023-11-22T19:19:43.012610Z",
     "iopub.status.busy": "2023-11-22T19:19:43.012140Z",
     "iopub.status.idle": "2023-11-22T19:19:43.018814Z",
     "shell.execute_reply": "2023-11-22T19:19:43.017763Z"
    },
    "papermill": {
     "duration": 0.02436,
     "end_time": "2023-11-22T19:19:43.021429",
     "exception": false,
     "start_time": "2023-11-22T19:19:42.997069",
     "status": "completed"
    },
    "tags": []
   },
   "outputs": [
    {
     "data": {
      "text/plain": [
       "[269981.28,\n",
       " 183069.17582751293,\n",
       " 106348.37306211118,\n",
       " 73679.78903948834,\n",
       " 44448.45544793371,\n",
       " 37239.835542456036,\n",
       " 30227.606513152015,\n",
       " 25022.485004530354,\n",
       " 21838.863692828912,\n",
       " 19755.6198608334]"
      ]
     },
     "execution_count": 17,
     "metadata": {},
     "output_type": "execute_result"
    }
   ],
   "source": [
    "wcss"
   ]
  },
  {
   "cell_type": "code",
   "execution_count": 18,
   "id": "6d838492",
   "metadata": {
    "execution": {
     "iopub.execute_input": "2023-11-22T19:19:43.051192Z",
     "iopub.status.busy": "2023-11-22T19:19:43.050553Z",
     "iopub.status.idle": "2023-11-22T19:19:43.055118Z",
     "shell.execute_reply": "2023-11-22T19:19:43.054086Z"
    },
    "papermill": {
     "duration": 0.022514,
     "end_time": "2023-11-22T19:19:43.057643",
     "exception": false,
     "start_time": "2023-11-22T19:19:43.035129",
     "status": "completed"
    },
    "tags": []
   },
   "outputs": [],
   "source": [
    "import matplotlib.pyplot as plt"
   ]
  },
  {
   "cell_type": "code",
   "execution_count": 19,
   "id": "dc7d1897",
   "metadata": {
    "execution": {
     "iopub.execute_input": "2023-11-22T19:19:43.153636Z",
     "iopub.status.busy": "2023-11-22T19:19:43.152208Z",
     "iopub.status.idle": "2023-11-22T19:19:43.476651Z",
     "shell.execute_reply": "2023-11-22T19:19:43.475306Z"
    },
    "papermill": {
     "duration": 0.408034,
     "end_time": "2023-11-22T19:19:43.479635",
     "exception": false,
     "start_time": "2023-11-22T19:19:43.071601",
     "status": "completed"
    },
    "tags": []
   },
   "outputs": [
    {
     "data": {
      "image/png": "[encoded data removed]",
      "text/plain": [
       "<Figure size 640x480 with 1 Axes>"
      ]
     },
     "metadata": {},
     "output_type": "display_data"
    }
   ],
   "source": [
    "plt.plot(range(1,11),wcss)\n",
    "plt.title(\"Elbow Method\")\n",
    "plt.xlabel(\"Number of Clusters\")\n",
    "plt.ylabel(\"WCss\")\n",
    "plt.show()"
   ]
  },
  {
   "cell_type": "markdown",
   "id": "edc5e62c",
   "metadata": {
    "papermill": {
     "duration": 0.014751,
     "end_time": "2023-11-22T19:19:43.509865",
     "exception": false,
     "start_time": "2023-11-22T19:19:43.495114",
     "status": "completed"
    },
    "tags": []
   },
   "source": [
    "# Model Training "
   ]
  },
  {
   "cell_type": "code",
   "execution_count": 20,
   "id": "61396b56",
   "metadata": {
    "execution": {
     "iopub.execute_input": "2023-11-22T19:19:43.541443Z",
     "iopub.status.busy": "2023-11-22T19:19:43.540960Z",
     "iopub.status.idle": "2023-11-22T19:19:43.547973Z",
     "shell.execute_reply": "2023-11-22T19:19:43.546749Z"
    },
    "papermill": {
     "duration": 0.02649,
     "end_time": "2023-11-22T19:19:43.550975",
     "exception": false,
     "start_time": "2023-11-22T19:19:43.524485",
     "status": "completed"
    },
    "tags": []
   },
   "outputs": [],
   "source": [
    "x = data[['Annual Income (k$)','Spending Score (1-100)']]"
   ]
  },
  {
   "cell_type": "code",
   "execution_count": 21,
   "id": "857ffbb4",
   "metadata": {
    "execution": {
     "iopub.execute_input": "2023-11-22T19:19:43.584630Z",
     "iopub.status.busy": "2023-11-22T19:19:43.584161Z",
     "iopub.status.idle": "2023-11-22T19:19:43.597596Z",
     "shell.execute_reply": "2023-11-22T19:19:43.596673Z"
    },
    "papermill": {
     "duration": 0.032852,
     "end_time": "2023-11-22T19:19:43.599947",
     "exception": false,
     "start_time": "2023-11-22T19:19:43.567095",
     "status": "completed"
    },
    "tags": []
   },
   "outputs": [
    {
     "data": {
      "text/html": [
       "<div>\n",
       "<style scoped>\n",
       "    .dataframe tbody tr th:only-of-type {\n",
       "        vertical-align: middle;\n",
       "    }\n",
       "\n",
       "    .dataframe tbody tr th {\n",
       "        vertical-align: top;\n",
       "    }\n",
       "\n",
       "    .dataframe thead th {\n",
       "        text-align: right;\n",
       "    }\n",
       "</style>\n",
       "<table border=\"1\" class=\"dataframe\">\n",
       "  <thead>\n",
       "    <tr style=\"text-align: right;\">\n",
       "      <th></th>\n",
       "      <th>Annual Income (k$)</th>\n",
       "      <th>Spending Score (1-100)</th>\n",
       "    </tr>\n",
       "  </thead>\n",
       "  <tbody>\n",
       "    <tr>\n",
       "      <th>0</th>\n",
       "      <td>15</td>\n",
       "      <td>39</td>\n",
       "    </tr>\n",
       "    <tr>\n",
       "      <th>1</th>\n",
       "      <td>15</td>\n",
       "      <td>81</td>\n",
       "    </tr>\n",
       "    <tr>\n",
       "      <th>2</th>\n",
       "      <td>16</td>\n",
       "      <td>6</td>\n",
       "    </tr>\n",
       "    <tr>\n",
       "      <th>3</th>\n",
       "      <td>16</td>\n",
       "      <td>77</td>\n",
       "    </tr>\n",
       "    <tr>\n",
       "      <th>4</th>\n",
       "      <td>17</td>\n",
       "      <td>40</td>\n",
       "    </tr>\n",
       "    <tr>\n",
       "      <th>...</th>\n",
       "      <td>...</td>\n",
       "      <td>...</td>\n",
       "    </tr>\n",
       "    <tr>\n",
       "      <th>195</th>\n",
       "      <td>120</td>\n",
       "      <td>79</td>\n",
       "    </tr>\n",
       "    <tr>\n",
       "      <th>196</th>\n",
       "      <td>126</td>\n",
       "      <td>28</td>\n",
       "    </tr>\n",
       "    <tr>\n",
       "      <th>197</th>\n",
       "      <td>126</td>\n",
       "      <td>74</td>\n",
       "    </tr>\n",
       "    <tr>\n",
       "      <th>198</th>\n",
       "      <td>137</td>\n",
       "      <td>18</td>\n",
       "    </tr>\n",
       "    <tr>\n",
       "      <th>199</th>\n",
       "      <td>137</td>\n",
       "      <td>83</td>\n",
       "    </tr>\n",
       "  </tbody>\n",
       "</table>\n",
       "<p>200 rows × 2 columns</p>\n",
       "</div>"
      ],
      "text/plain": [
       "     Annual Income (k$)  Spending Score (1-100)\n",
       "0                    15                      39\n",
       "1                    15                      81\n",
       "2                    16                       6\n",
       "3                    16                      77\n",
       "4                    17                      40\n",
       "..                  ...                     ...\n",
       "195                 120                      79\n",
       "196                 126                      28\n",
       "197                 126                      74\n",
       "198                 137                      18\n",
       "199                 137                      83\n",
       "\n",
       "[200 rows x 2 columns]"
      ]
     },
     "execution_count": 21,
     "metadata": {},
     "output_type": "execute_result"
    }
   ],
   "source": [
    "x"
   ]
  },
  {
   "cell_type": "code",
   "execution_count": 22,
   "id": "9808303e",
   "metadata": {
    "execution": {
     "iopub.execute_input": "2023-11-22T19:19:43.632315Z",
     "iopub.status.busy": "2023-11-22T19:19:43.631856Z",
     "iopub.status.idle": "2023-11-22T19:19:43.665745Z",
     "shell.execute_reply": "2023-11-22T19:19:43.664779Z"
    },
    "papermill": {
     "duration": 0.053249,
     "end_time": "2023-11-22T19:19:43.668390",
     "exception": false,
     "start_time": "2023-11-22T19:19:43.615141",
     "status": "completed"
    },
    "tags": []
   },
   "outputs": [
    {
     "name": "stderr",
     "output_type": "stream",
     "text": [
      "/opt/conda/lib/python3.10/site-packages/sklearn/cluster/_kmeans.py:870: FutureWarning: The default value of `n_init` will change from 10 to 'auto' in 1.4. Set the value of `n_init` explicitly to suppress the warning\n",
      "  warnings.warn(\n"
     ]
    }
   ],
   "source": [
    "k_means = KMeans(n_clusters=5,random_state=42)\n",
    "y_means = k_means.fit_predict(x)"
   ]
  },
  {
   "cell_type": "code",
   "execution_count": 23,
   "id": "45ccde5a",
   "metadata": {
    "execution": {
     "iopub.execute_input": "2023-11-22T19:19:43.703230Z",
     "iopub.status.busy": "2023-11-22T19:19:43.702827Z",
     "iopub.status.idle": "2023-11-22T19:19:43.711594Z",
     "shell.execute_reply": "2023-11-22T19:19:43.710413Z"
    },
    "papermill": {
     "duration": 0.028496,
     "end_time": "2023-11-22T19:19:43.714380",
     "exception": false,
     "start_time": "2023-11-22T19:19:43.685884",
     "status": "completed"
    },
    "tags": []
   },
   "outputs": [
    {
     "data": {
      "text/plain": [
       "array([2, 3, 2, 3, 2, 3, 2, 3, 2, 3, 2, 3, 2, 3, 2, 3, 2, 3, 2, 3, 2, 3,\n",
       "       2, 3, 2, 3, 2, 3, 2, 3, 2, 3, 2, 3, 2, 3, 2, 3, 2, 3, 2, 3, 2, 0,\n",
       "       2, 3, 0, 0, 0, 0, 0, 0, 0, 0, 0, 0, 0, 0, 0, 0, 0, 0, 0, 0, 0, 0,\n",
       "       0, 0, 0, 0, 0, 0, 0, 0, 0, 0, 0, 0, 0, 0, 0, 0, 0, 0, 0, 0, 0, 0,\n",
       "       0, 0, 0, 0, 0, 0, 0, 0, 0, 0, 0, 0, 0, 0, 0, 0, 0, 0, 0, 0, 0, 0,\n",
       "       0, 0, 0, 0, 0, 0, 0, 0, 0, 0, 0, 0, 0, 4, 1, 4, 0, 4, 1, 4, 1, 4,\n",
       "       0, 4, 1, 4, 1, 4, 1, 4, 1, 4, 0, 4, 1, 4, 1, 4, 1, 4, 1, 4, 1, 4,\n",
       "       1, 4, 1, 4, 1, 4, 1, 4, 1, 4, 1, 4, 1, 4, 1, 4, 1, 4, 1, 4, 1, 4,\n",
       "       1, 4, 1, 4, 1, 4, 1, 4, 1, 4, 1, 4, 1, 4, 1, 4, 1, 4, 1, 4, 1, 4,\n",
       "       1, 4], dtype=int32)"
      ]
     },
     "execution_count": 23,
     "metadata": {},
     "output_type": "execute_result"
    }
   ],
   "source": [
    "y_means\n"
   ]
  },
  {
   "cell_type": "code",
   "execution_count": 24,
   "id": "6933a66e",
   "metadata": {
    "execution": {
     "iopub.execute_input": "2023-11-22T19:19:43.749088Z",
     "iopub.status.busy": "2023-11-22T19:19:43.748658Z",
     "iopub.status.idle": "2023-11-22T19:19:44.356953Z",
     "shell.execute_reply": "2023-11-22T19:19:44.355593Z"
    },
    "papermill": {
     "duration": 0.630275,
     "end_time": "2023-11-22T19:19:44.360626",
     "exception": false,
     "start_time": "2023-11-22T19:19:43.730351",
     "status": "completed"
    },
    "tags": []
   },
   "outputs": [
    {
     "data": {
      "image/png": "[encoded data removed]",
      "text/plain": [
       "<Figure size 640x480 with 1 Axes>"
      ]
     },
     "metadata": {},
     "output_type": "display_data"
    }
   ],
   "source": [
    "plt.scatter(x.iloc[y_means==0,0], x.iloc[y_means==0,1], s=100, c='red', label=\"Cluster 1\")\n",
    "plt.scatter(x.iloc[y_means==1,0], x.iloc[y_means==1,1], s=100, c='yellow', label=\"Cluster 2\")\n",
    "plt.scatter(x.iloc[y_means==2,0], x.iloc[y_means==2,1], s=100, c='green', label=\"Cluster 3\")\n",
    "plt.scatter(x.iloc[y_means==3,0], x.iloc[y_means==3,1], s=100, c='blue', label=\"Cluster 4\")\n",
    "plt.scatter(x.iloc[y_means==4,0], x.iloc[y_means==4,1], s=100, c='black', label=\"Cluster 5\")\n",
    "\n",
    "plt.scatter(k_means.cluster_centers_[:, 0], k_means.cluster_centers_[:, 1], s=100, c='magenta', label=\"Centroids\")\n",
    "plt.title(\"customer Segmentayion\")\n",
    "plt.xlabel(\"Annual Income\")\n",
    "plt.ylabel(\"Spending Score\")\n",
    "plt.legend()\n",
    "plt.show()\n"
   ]
  },
  {
   "cell_type": "code",
   "execution_count": 25,
   "id": "4c4c5b16",
   "metadata": {
    "execution": {
     "iopub.execute_input": "2023-11-22T19:19:44.400674Z",
     "iopub.status.busy": "2023-11-22T19:19:44.400210Z",
     "iopub.status.idle": "2023-11-22T19:19:44.412014Z",
     "shell.execute_reply": "2023-11-22T19:19:44.410820Z"
    },
    "papermill": {
     "duration": 0.0372,
     "end_time": "2023-11-22T19:19:44.415428",
     "exception": false,
     "start_time": "2023-11-22T19:19:44.378228",
     "status": "completed"
    },
    "tags": []
   },
   "outputs": [
    {
     "name": "stderr",
     "output_type": "stream",
     "text": [
      "/opt/conda/lib/python3.10/site-packages/sklearn/base.py:439: UserWarning: X does not have valid feature names, but KMeans was fitted with feature names\n",
      "  warnings.warn(\n"
     ]
    },
    {
     "data": {
      "text/plain": [
       "array([2], dtype=int32)"
      ]
     },
     "execution_count": 25,
     "metadata": {},
     "output_type": "execute_result"
    }
   ],
   "source": [
    "k_means.predict([[15,39]])"
   ]
  },
  {
   "cell_type": "markdown",
   "id": "9b0cccb0",
   "metadata": {
    "papermill": {
     "duration": 0.016989,
     "end_time": "2023-11-22T19:19:44.449130",
     "exception": false,
     "start_time": "2023-11-22T19:19:44.432141",
     "status": "completed"
    },
    "tags": []
   },
   "source": [
    "# Saved The model"
   ]
  },
  {
   "cell_type": "code",
   "execution_count": 26,
   "id": "8a3cc837",
   "metadata": {
    "execution": {
     "iopub.execute_input": "2023-11-22T19:19:44.486460Z",
     "iopub.status.busy": "2023-11-22T19:19:44.486038Z",
     "iopub.status.idle": "2023-11-22T19:19:44.491288Z",
     "shell.execute_reply": "2023-11-22T19:19:44.489811Z"
    },
    "papermill": {
     "duration": 0.026808,
     "end_time": "2023-11-22T19:19:44.493789",
     "exception": false,
     "start_time": "2023-11-22T19:19:44.466981",
     "status": "completed"
    },
    "tags": []
   },
   "outputs": [],
   "source": [
    "import joblib"
   ]
  },
  {
   "cell_type": "code",
   "execution_count": 27,
   "id": "27ec7498",
   "metadata": {
    "execution": {
     "iopub.execute_input": "2023-11-22T19:19:44.531425Z",
     "iopub.status.busy": "2023-11-22T19:19:44.530756Z",
     "iopub.status.idle": "2023-11-22T19:19:44.538354Z",
     "shell.execute_reply": "2023-11-22T19:19:44.537516Z"
    },
    "papermill": {
     "duration": 0.028778,
     "end_time": "2023-11-22T19:19:44.540927",
     "exception": false,
     "start_time": "2023-11-22T19:19:44.512149",
     "status": "completed"
    },
    "tags": []
   },
   "outputs": [
    {
     "data": {
      "text/plain": [
       "['customer_segmentation']"
      ]
     },
     "execution_count": 27,
     "metadata": {},
     "output_type": "execute_result"
    }
   ],
   "source": [
    "joblib.dump(k_means,\"customer_segmentation\")"
   ]
  },
  {
   "cell_type": "markdown",
   "id": "1c1e924b",
   "metadata": {
    "papermill": {
     "duration": 0.016817,
     "end_time": "2023-11-22T19:19:44.575457",
     "exception": false,
     "start_time": "2023-11-22T19:19:44.558640",
     "status": "completed"
    },
    "tags": []
   },
   "source": [
    "model = joblib.load(\"customer_segmentation\")"
   ]
  }
 ],
 "metadata": {
  "kaggle": {
   "accelerator": "none",
   "dataSources": [],
   "dockerImageVersionId": 30587,
   "isGpuEnabled": false,
   "isInternetEnabled": true,
   "language": "python",
   "sourceType": "notebook"
  },
  "kernelspec": {
   "display_name": "Python 3 (ipykernel)",
   "language": "python",
   "name": "python3"
  },
  "language_info": {
   "codemirror_mode": {
    "name": "ipython",
    "version": 3
   },
   "file_extension": ".py",
   "mimetype": "text/x-python",
   "name": "python",
   "nbconvert_exporter": "python",
   "pygments_lexer": "ipython3",
   "version": "3.10.12"
  },
  "papermill": {
   "default_parameters": {},
   "duration": 10.030488,
   "end_time": "2023-11-22T19:19:45.315343",
   "environment_variables": {},
   "exception": null,
   "input_path": "__notebook__.ipynb",
   "output_path": "__notebook__.ipynb",
   "parameters": {},
   "start_time": "2023-11-22T19:19:35.284855",
   "version": "2.4.0"
  }
 },
 "nbformat": 4,
 "nbformat_minor": 5
}
